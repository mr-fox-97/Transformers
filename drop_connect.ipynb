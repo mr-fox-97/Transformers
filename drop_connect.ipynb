{
 "cells": [
  {
   "cell_type": "markdown",
   "metadata": {},
   "source": [
    "## DropConnect\n",
    "\n",
    "En este notebook voy a realizar una implementación detallada y explicada de la técnica de regularización DropConnect usando la libreria PyTorch. Esta técnica es una generalización de Dropout, en la que en lugar de desactivar las neuronas de una capa, se desactivan las conexiones entre las neuronas de una capa y la siguiente.\n",
    "\n",
    "Esta técnica es propuesta en el paper: [Regularization of Neural Networks using DropConnect](http://yann.lecun.com/exdb/publis/pdf/wan-icml-13.pdf).\n",
    "\n",
    "Pero primero, voy a hacer un repaso de las funciónes ``Linear`` y ``Dropout`` y el producto de Hadamard de PyTorch, ya estas son utilizadas en la implementación de DropConnect y es preciso saber como estan implementadas y como se propagan los gradientes a traves de estas."
   ]
  },
  {
   "cell_type": "markdown",
   "metadata": {},
   "source": [
    "### Capas lineales\n",
    "\n",
    "Sean:\n",
    "- $\\vec{x} \\in \\mathbb{R} ^ {d}$\n",
    "- $W \\in \\mathbb{R} ^ {m \\times d}$\n",
    "- $\\vec{b} \\in \\mathbb{R} ^ {m}$\n",
    "\n",
    "Se define la función lineal como:\n",
    "\n",
    "$$ \\text{Linear}(\\vec{x}, W, \\vec{b}) = \\vec{x}W^T + \\vec{b} $$\n",
    "\n",
    "\n"
   ]
  },
  {
   "cell_type": "markdown",
   "metadata": {},
   "source": [
    "Notemos que el elemento de la matriz transpuesta $(W^T)_i^j$ sera $w_j^i = w_i^j \\delta^{ii} \\delta_{jj}$, de modo que el producto $\\vec{x}W^T$ sera:\n",
    "\n",
    "$$ (\\vec{x}W^T)_i = \\sum_j x_j w_i^j \\delta^{ii} \\delta_{jj}$$\n",
    "\n",
    "Derivando con respecto a los elementos de $W$ obtenemos:\n",
    "\n",
    "$$ \\frac{\\partial (\\vec{x} W^T)_i}{\\partial w_k^l} \n",
    " = \\frac{(\\partial \\sum_j x_j w_i^j \\delta^{ii} \\delta_{jj})}{\\partial w_k^l}\n",
    " = \\sum_j x_j \\delta^{ii} \\delta_{jj} \\frac{\\partial w_i^j}{\\partial w_k^l}\n",
    " = \\sum_j x_j \\delta^{ii} \\delta_{jj} \\delta_l^j \\delta_i^k \n",
    " = \\delta^{ii} \\delta_{ll} \\delta_i^k x_l \n",
    "$$\n",
    "\n",
    "Las deltas de Kronecker $\\delta^{ii} \\delta_{ll}$ y $\\delta_i^k$ actuan transponiendolo y contrayendo una dimension de la derivada parcial, que paso a ser un tensor de rango 3, con esto en mente se puede probar que el gradiente propagado por la función lineal con respecto a $W$ sera:\n",
    "\n",
    "$$ \\vec{j} \\frac{\\partial \\text{Linear}(\\vec{x}, W, \\vec{b})}{\\partial W} = \\vec{j} ^T \\vec{x}$$\n",
    "\n",
    "Analogamente, derivando con respecto a $\\vec{b}$ obtenemos:\n",
    "\n",
    "$$\\vec{j}  \\frac{\\partial \\text{Linear}(\\vec{x}, W, \\vec{b})}{\\partial \\vec{b}} = \\vec{j} $$\n",
    "\n",
    "Veamos esto ahora usando el mecanismo de diferenciación automática de Pytorch:"
   ]
  },
  {
   "cell_type": "code",
   "execution_count": 1,
   "metadata": {},
   "outputs": [
    {
     "name": "stdout",
     "output_type": "stream",
     "text": [
      "Gradient calculated by PyTorch:\n",
      "Gradient of weight: \n",
      "tensor([[ 1.,  2.,  3.,  4.,  5.],\n",
      "        [ 2.,  4.,  6.,  8., 10.],\n",
      "        [ 1.,  2.,  3.,  4.,  5.],\n",
      "        [ 4.,  8., 12., 16., 20.],\n",
      "        [ 1.,  2.,  3.,  4.,  5.]])\n",
      "Gradient of bias: \n",
      "tensor([1., 2., 1., 4., 1.])\n",
      "Gradient calculated by hand:\n",
      "Gradient of weight: \n",
      "tensor([[ 1.,  2.,  3.,  4.,  5.],\n",
      "        [ 2.,  4.,  6.,  8., 10.],\n",
      "        [ 1.,  2.,  3.,  4.,  5.],\n",
      "        [ 4.,  8., 12., 16., 20.],\n",
      "        [ 1.,  2.,  3.,  4.,  5.]])\n",
      "Gradient of bias: \n",
      "tensor([1., 2., 1., 4., 1.])\n",
      "Gradient of weight: \n",
      "tensor([[ 1.,  2.,  1.,  4.,  1.],\n",
      "        [ 2.,  4.,  2.,  8.,  2.],\n",
      "        [ 3.,  6.,  3., 12.,  3.],\n",
      "        [ 4.,  8.,  4., 16.,  4.],\n",
      "        [ 5., 10.,  5., 20.,  5.]])\n"
     ]
    }
   ],
   "source": [
    "from torch import Tensor\n",
    "from torch.nn import Parameter\n",
    "from torch.nn.functional import linear\n",
    "\n",
    "x = Tensor([1, 2, 3, 4, 5])\n",
    "W = Parameter(data=Tensor([\n",
    "    [1, 1, 1, 1, 1],\n",
    "    [1, 3, 1, 1, 1],\n",
    "    [1, 1, 1, 5, 1],\n",
    "    [1, 1, 1, 1, 1],\n",
    "    [2, 1, 1, 1, 1]\n",
    "]))\n",
    "\n",
    "b = Parameter(data=Tensor([1, 1, 1, 1, 1]))\n",
    "j = Tensor([1, 2, 1, 4, 1])\n",
    "\n",
    "\n",
    "y = linear(x, W, b)\n",
    "y.backward(gradient=j)\n",
    "\n",
    "print(\"Gradient calculated by PyTorch:\")\n",
    "print(\"Gradient of weight: \")\n",
    "print(W.grad)\n",
    "print(\"Gradient of bias: \")\n",
    "print(b.grad)\n",
    "\n",
    "\n",
    "print(\"Gradient calculated by hand:\")\n",
    "print(\"Gradient of weight: \")\n",
    "print(j.unsqueeze(0).transpose(0,1) @ x.unsqueeze(0))\n",
    "print(\"Gradient of bias: \")\n",
    "print(j)\n",
    "\n",
    "\n",
    "print(\"Gradient of weight: \")\n",
    "print(x.unsqueeze(0).transpose(0,1) @ j.unsqueeze(0))"
   ]
  },
  {
   "cell_type": "markdown",
   "metadata": {},
   "source": [
    "El resultado es el mismo para tensores $X$ y $J$ de rango 2, siempre que $J^T X \\in \\mathbb{R} ^ {n \\times d}$, en donde las dimensiones adicionales de $X$ y $J$ serian los tamaños de mini-batch.\n",
    "\n",
    "En el caso del bias $\\vec{b}$, el gradiente propagado con minibatch sera la suma de los gradientes de cada elemento del mini-batch."
   ]
  },
  {
   "cell_type": "code",
   "execution_count": 2,
   "metadata": {},
   "outputs": [
    {
     "name": "stdout",
     "output_type": "stream",
     "text": [
      "Gradient of bias: \n",
      "tensor([2., 3., 2., 5.])\n",
      "tensor([2., 3., 2., 5.])\n"
     ]
    }
   ],
   "source": [
    "from torch import Tensor\n",
    "from torch.nn import Parameter\n",
    "from torch.nn.functional import linear\n",
    "\n",
    "X = Tensor([\n",
    "    [1, 2, 3],\n",
    "    [4, 5, 6]\n",
    "])\n",
    "\n",
    "W = Parameter(data=Tensor([\n",
    "    [1, 1, 1],\n",
    "    [1, 3, 1],\n",
    "    [1, 1, 1],\n",
    "    [1, 1, 1]\n",
    "]), requires_grad=True)\t\n",
    "\n",
    "b = Parameter(data=Tensor([1, 1, 1, 1]), requires_grad=True)\n",
    "\n",
    "J = Tensor([\n",
    "    [1, 2, 1, 4],\n",
    "    [1, 1, 1, 1]\n",
    "])\n",
    "\n",
    "y = linear(X, W, b)\n",
    "y.backward(gradient=J)\n",
    "\n",
    "print(\"Gradient of bias: \")\n",
    "print(b.grad)\n",
    "\n",
    "print(J.sum(dim=0))"
   ]
  },
  {
   "cell_type": "markdown",
   "metadata": {},
   "source": [
    "### Producto de Hadamard (Element-wise producto)\n",
    "\n",
    "Dadas dos matrices $X, Y \\in \\mathbb{R}^{d \\times n}$ de las mismas dimensiones, el producto de Hadamard se define como:\n",
    "\n",
    "$$ X \\odot Y = \\begin{bmatrix} \n",
    "\n",
    "    x_1^1 & x_2^1 & \\cdots & x_d^1 \\\\\n",
    "    x_1^2 & x_2^2 & \\cdots & x_d^2 \\\\\n",
    "    \\vdots & \\vdots & \\ddots & \\vdots \\\\\n",
    "    x_1^n & x_2^n & \\cdots & x_d^n \\\\\n",
    "\n",
    "\\end{bmatrix} \\odot \\begin{bmatrix}\n",
    "\n",
    "    y_1^1 & y_2^1 & \\cdots & y_d^1 \\\\\n",
    "    y_1^2 & y_2^2 & \\cdots & y_d^2 \\\\\n",
    "    \\vdots & \\vdots & \\ddots & \\vdots \\\\\n",
    "    y_1^n & y_2^n & \\cdots & y_d^n \\\\\n",
    "\n",
    "\\end{bmatrix} = \\begin{bmatrix}\n",
    "\n",
    "    x_1^1 y_1^1 & x_2^1 y_2^1 & \\cdots & x_d^1 y_d^1 \\\\\n",
    "    x_1^2 y_1^2 & x_2^2 y_2^2 & \\cdots & x_d^2 y_d^2 \\\\\n",
    "    \\vdots & \\vdots & \\ddots & \\vdots \\\\\n",
    "    x_1^n y_1^n & x_2^n y_2^n & \\cdots & x_d^n y_d^n \\\\\n",
    "\n",
    "\\end{bmatrix} $$\n",
    "\n"
   ]
  },
  {
   "cell_type": "markdown",
   "metadata": {},
   "source": [
    "Notemos que:\n",
    "\n",
    "$$ \\frac{\\partial (X \\odot Y)_i^j}{\\partial x_k^l}\n",
    " = \\frac{\\partial ( x_i^j y_i^j )}{\\partial x_k^l}\n",
    " = y_i^j \\frac{\\partial x_i^j}{\\partial x_k^l}\n",
    " = y_i^j \\delta_l^j \\delta_i^k\n",
    "$$\n",
    "\n",
    "De modo que, dado un gradiente $J$ proveniente de una operación posterior, el gradiente propagado por el producto de Hadamard con respecto a $X$ sera:\n",
    "\n",
    "$$ \\sum_{k l} J_k^l \\frac{\\partial (X \\odot Y)_i^j}{\\partial x_k^l} = \\sum_{k l} J_k^l y_i^j \\delta_l^j \\delta_i^k = J_i^j Y_i^j \\rightarrow J \\odot Y $$\n",
    "\n",
    "Analogamente, el gradiente propagado con respecto a $Y$ sera: \n",
    "\n",
    "$$ J \\odot X $$"
   ]
  },
  {
   "cell_type": "code",
   "execution_count": 3,
   "metadata": {},
   "outputs": [
    {
     "name": "stdout",
     "output_type": "stream",
     "text": [
      "Gradients calculated by PyTorch:\n",
      "tensor([[1., 2., 1., 2., 1.],\n",
      "        [1., 2., 0., 4., 1.],\n",
      "        [2., 0., 1., 0., 1.],\n",
      "        [1., 1., 0., 5., 0.],\n",
      "        [1., 2., 5., 1., 3.]])\n",
      "tensor([[0., 2., 3., 4., 5.],\n",
      "        [1., 3., 0., 4., 5.],\n",
      "        [1., 0., 3., 0., 5.],\n",
      "        [0., 2., 0., 4., 0.],\n",
      "        [5., 2., 3., 4., 5.]])\n",
      "Gradients calculated by hand:\n",
      "tensor([[1., 2., 1., 2., 1.],\n",
      "        [1., 2., 0., 4., 1.],\n",
      "        [2., 0., 1., 0., 1.],\n",
      "        [1., 1., 0., 5., 0.],\n",
      "        [1., 2., 5., 1., 3.]], grad_fn=<MulBackward0>)\n",
      "tensor([[0., 2., 3., 4., 5.],\n",
      "        [1., 3., 0., 4., 5.],\n",
      "        [1., 0., 3., 0., 5.],\n",
      "        [0., 2., 0., 4., 0.],\n",
      "        [5., 2., 3., 4., 5.]], grad_fn=<MulBackward0>)\n"
     ]
    }
   ],
   "source": [
    "from torch import Tensor\n",
    "from torch.nn import Parameter\n",
    "from torch.nn.functional import linear\n",
    "\n",
    "X = Parameter(data=Tensor([\n",
    "    [0, 2, 3, 4, 5],\n",
    "    [1, 3, 0, 4, 5],\n",
    "    [1, 2, 3, 4, 5],\n",
    "    [0, 2, 3, 4, 5],\n",
    "    [5, 2, 3, 4, 5]\n",
    "]))\n",
    "\n",
    "Y = Parameter(data=Tensor([\n",
    "    [1, 2, 1, 2, 1],\n",
    "    [1, 2, 0, 4, 1],\n",
    "    [2, 2, 1, 4, 1],\n",
    "    [1, 1, 1, 5, 1],\n",
    "    [1, 2, 5, 1, 3]\n",
    "]))\n",
    "\n",
    "result = X * Y\n",
    "J = Tensor([\n",
    "    [1, 1, 1, 1, 1],\n",
    "    [1, 1, 1, 1, 1],\n",
    "    [1, 0, 1, 0, 1],\n",
    "    [1, 1, 0, 1, 0],\n",
    "    [1, 1, 1, 1, 1]\n",
    "])\n",
    "\n",
    "result.backward(gradient=J)\n",
    "\n",
    "print(\"Gradients calculated by PyTorch:\")\n",
    "print(X.grad)\n",
    "print(Y.grad)\n",
    "\n",
    "print(\"Gradients calculated by hand:\")\n",
    "print(J * Y)\n",
    "print(J * X)"
   ]
  },
  {
   "cell_type": "markdown",
   "metadata": {},
   "source": [
    "### Distribución de Bernoulli.\n",
    "\n",
    "En el dropout, se desactivan neuronas de la red con el objetivo de evitar el sobreajuste y mejorar la generalización de la red neuronal.. Cada neurona tiene una probabilidad de ser desactivada (o \"droppeada\") durante el entrenamiento. \n",
    "\n",
    "Se puede leer más sobre dropout en el siguiente [artículo](https://arxiv.org/pdf/1207.0580).\n",
    "\n",
    "Para ello se utiliza la distribución de Bernoulli, esta es una distribución de probabilidad discreta que modela la probabilidad de un evento binario, es decir, un evento que puede tener solo dos resultados posibles: éxito (1) o fracaso (0). En el caso del dropout, el evento binario es la activación o desactivación de una neurona.\n",
    "\n",
    "La distribución de Bernoulli se define como:\n",
    "\n",
    "- $P(X = 1) = p$\n",
    "- $P(X = 0) = 1 - p$\n",
    "\n",
    "Donde p es la probabilidad de que la neurona sea activada. Veamos un poco esta distribución."
   ]
  },
  {
   "cell_type": "code",
   "execution_count": 4,
   "metadata": {},
   "outputs": [
    {
     "data": {
      "image/png": "[encoded data removed]",
      "text/plain": [
       "<Figure size 640x480 with 1 Axes>"
      ]
     },
     "metadata": {},
     "output_type": "display_data"
    },
    {
     "data": {
      "image/png": "[encoded data removed]",
      "text/plain": [
       "<Figure size 640x480 with 1 Axes>"
      ]
     },
     "metadata": {},
     "output_type": "display_data"
    },
    {
     "data": {
      "image/png": "[encoded data removed]",
      "text/plain": [
       "<Figure size 640x480 with 1 Axes>"
      ]
     },
     "metadata": {},
     "output_type": "display_data"
    },
    {
     "data": {
      "image/png": "[encoded data removed]",
      "text/plain": [
       "<Figure size 640x480 with 1 Axes>"
      ]
     },
     "metadata": {},
     "output_type": "display_data"
    }
   ],
   "source": [
    "from torch import Tensor\n",
    "from torch import bernoulli\n",
    "\n",
    "from matplotlib.pyplot import figure, show\n",
    "\n",
    "for probability in [0.1, 0.3, 0.5, 0.7]:\n",
    "    distrubution = bernoulli(input =  Tensor(100, 100), p = probability)\n",
    "    plot = figure()\n",
    "    ax = plot.add_subplot()\n",
    "    ax.imshow(distrubution, cmap='Blues', interpolation='nearest')"
   ]
  },
  {
   "cell_type": "markdown",
   "metadata": {},
   "source": [
    "En las figuras, se muestra la distribución de Bernoulli para diferentes valores de p en un tensor. En azul las neuronas desactivadas."
   ]
  },
  {
   "cell_type": "markdown",
   "metadata": {},
   "source": [
    "### DropOut y DropConnect\n",
    "\n",
    "En el paper [DropConnect](http://yann.lecun.com/exdb/publis/pdf/wan-icml-13.pdf) se propone una generalización del dropout, donde en lugar de desactivar las neuronas, se desactivan las conexiones."
   ]
  },
  {
   "cell_type": "markdown",
   "metadata": {},
   "source": [
    "![alt text](https://cds.nyu.edu/wp-content/uploads/2014/04/Capture1.png)"
   ]
  },
  {
   "cell_type": "markdown",
   "metadata": {},
   "source": [
    "### Entrenamiento\n",
    "\n",
    "Para el entrenamiento, se crea una matriz de máscara $M$ desde una distribución de Bernoulli para enmascarar elementos de una matriz de pesos $W$, usando el producto de Hadamard: \n",
    "\n",
    "$$M \\odot W $$\n",
    "\n",
    "Para entrenar con éxito con DropConnect, se debe seleccionar una máscara diferente para cada ejemplo de entrenamiento, seleccionar una sola máscara para un subconjunto de ejemplos de entrenamiento, como un minilote de 128 ejemplos, no regulariza lo suficiente el modelo en la práctica. Dado que el requisito de memoria para las matrices $M$ ahora crece con el tamaño de cada minilote, la implementación necesita ser diseñada con cuidado, ya que podría haber problemas con la memoria.\n",
    "\n",
    "Luego se propagan los gradientes de la función de pérdida con respecto a los parámetros, $J$. \n",
    "\n",
    "Para actualizar la matriz de pesos $W$ en una capa DropConnect, se aplica la máscara al gradiente para actualizar solo aquellos elementos que estuvieron activos en la pasada hacia adelante.\n",
    "\n",
    "Sin embargo esto ya se realiza en la propagación del producto de Hadamard, ya que si $J$ es el gradiente proveniente de la opración lineal, el gradiente propagado por el producto de Hadamard con respecto a $W$ sera:\n",
    "\n",
    "$$ J \\odot M $$\n",
    "\n",
    "Por lo que no hace falta implementar una operación de backpropagation adicional, y solo se necesita utilizar el producto de Hadamard ya provisto por Pytorch."
   ]
  },
  {
   "cell_type": "markdown",
   "metadata": {},
   "source": [
    "#### Implementación\n",
    "\n",
    "Para implementar la capa lineal con DropConnect, se debe precomputar las mascara $M$ de la distribución de Bernoulli y aplicarla al tensor de pesos $W$ en la operación de forward. Debido a que la máscara $M$ es diferente para cada ejemplo de entrenamiente, lo que se puede hacer es establecer un valor máximo del tamaño de minilotes y precomputar todas la máscaras posibles, y luego seleccionar una máscara diferente para cada minilote de ejemplos.\n",
    "\n",
    "Afortunadamente, PyTorch tiene implementaciones de tensores de valores booleanos y de la operación de mascara.\n"
   ]
  },
  {
   "cell_type": "code",
   "execution_count": 5,
   "metadata": {},
   "outputs": [
    {
     "name": "stdout",
     "output_type": "stream",
     "text": [
      "tensor([[ True,  True,  True,  True,  True],\n",
      "        [ True,  True, False, False, False],\n",
      "        [ True,  True, False,  True, False],\n",
      "        [False,  True,  True,  True, False],\n",
      "        [ True, False, False,  True, False]])\n",
      "tensor([[0.0000, 0.0000, 0.0000, 0.0000, 0.0000],\n",
      "        [0.0000, 0.0000, 0.6716, 0.0137, 0.9529],\n",
      "        [0.0000, 0.0000, 0.6236, 0.0000, 0.1112],\n",
      "        [0.0395, 0.0000, 0.0000, 0.0000, 0.2943],\n",
      "        [0.0000, 0.5517, 0.8364, 0.0000, 0.6159]])\n"
     ]
    }
   ],
   "source": [
    "import torch\n",
    "from torch.nn import Parameter\n",
    "\n",
    "mask = torch.bernoulli(torch.zeros(5,5, dtype=torch.bool, device='cpu'), 0.6)\n",
    "weight = Parameter(torch.randn(5,5, device='cpu'), requires_grad=True)\n",
    "gradient = torch.rand(5,5, device='cpu')\n",
    "\n",
    "output = torch.masked_fill(weight, mask, 0)\n",
    "output.backward(gradient)\n",
    "\n",
    "print(mask)\n",
    "print(weight.grad)"
   ]
  },
  {
   "cell_type": "markdown",
   "metadata": {},
   "source": [
    "Sean:\n",
    "\n",
    "- $ X \\in \\mathbb{R}^{n \\times d} $ : Un tensor de entrada con $n$ ejemplos y $d$ características.\n",
    "- $ W \\in \\mathbb{R}^{l \\times d} $ : Un tensor de pesos.\n",
    "\n",
    "Para un solo ejemplo, la implementación es sencilla, simplemente se le aplica una mascara $M$ a un tensor de pesos $W$. Sin embargo, segun el paper: \" A key component to successfully training with DropConnect is the selection of a different mask for each training example. Selecting a single mask for a subset of training examples, such as a mini-batch of 128 examples, does not regularize the model enough in practice \"\n",
    "\n",
    "De modo que se tiene que elegir un tensor de mascara $M \\in \\mathbb{R} ^ { n \\times l \\times d }$, por lo que la capa lineal con DropConnect debe ser implementada como:\n",
    "\n",
    "$$ \\text{DropConnect}(X, W, M) = \\begin{bmatrix}\n",
    "\n",
    "    \\begin{bmatrix}  x_1^1 & x_2^1 & \\cdots & x_d^1 \\end{bmatrix}\n",
    "\n",
    "    (\\begin{bmatrix} \n",
    "\n",
    "        m_1^{11} & m_2^{11} & \\cdots & m_d^{11} \\\\\n",
    "        m_1^{12} & m_2^{12} & \\cdots & m_d^{12} \\\\\n",
    "        \\vdots & \\vdots & \\ddots & \\vdots \\\\\n",
    "        m_1^{1l} & m_2^{1l} & \\cdots & m_d^{1l} \\\\\n",
    "    \n",
    "    \\end{bmatrix} \\odot \\begin{bmatrix}\n",
    "\n",
    "\n",
    "        w_1^1 & w_2^1 & \\cdots & w_d^1 \\\\\n",
    "        w_1^2 & w_2^2 & \\cdots & w_d^2 \\\\\n",
    "        \\vdots & \\vdots & \\ddots & \\vdots \\\\\n",
    "        w_1^l & w_2^l & \\cdots & w_d^l \\\\\n",
    "    \\end{bmatrix}\n",
    "    )^T \\\\\n",
    "\n",
    "    \\\\\n",
    "\n",
    "    \\begin{bmatrix}  x_1^2 & x_2^2 & \\cdots & x_d^2 \\end{bmatrix}\n",
    "\n",
    "    (\\begin{bmatrix} \n",
    "\n",
    "        m_2^{21} & m_2^{21} & \\cdots & m_d^{21} \\\\\n",
    "        m_1^{22} & m_2^{22} & \\cdots & m_d^{22} \\\\\n",
    "        \\vdots & \\vdots & \\ddots & \\vdots \\\\\n",
    "        m_1^{2l} & m_2^{2l} & \\cdots & m_d^{2l} \\\\\n",
    "    \n",
    "    \\end{bmatrix} \\odot \\begin{bmatrix}\n",
    "\n",
    "\n",
    "        w_1^1 & w_2^1 & \\cdots & w_d^1 \\\\\n",
    "        w_1^2 & w_2^2 & \\cdots & w_d^2 \\\\\n",
    "        \\vdots & \\vdots & \\ddots & \\vdots \\\\\n",
    "        w_1^l & w_2^l & \\cdots & w_d^l \\\\\n",
    "    \\end{bmatrix}\n",
    "    )^T \\\\\n",
    "\n",
    "    \\\\ \\vdots   \\\\\n",
    "\n",
    "    \\\\\n",
    "\n",
    "    \\begin{bmatrix}  x_1^n & x_2^n & \\cdots & x_d^n \\end{bmatrix}\n",
    "\n",
    "    (\\begin{bmatrix} \n",
    "\n",
    "        m_1^{n1} & m_2^{n1} & \\cdots & m_d^{n1} \\\\\n",
    "        m_1^{n2} & m_2^{n2} & \\cdots & m_d^{n2} \\\\\n",
    "        \\vdots & \\vdots & \\ddots & \\vdots \\\\\n",
    "        m_1^{nl} & m_2^{nl} & \\cdots & m_d^{nl} \\\\\n",
    "    \n",
    "    \\end{bmatrix} \\odot \\begin{bmatrix}\n",
    "\n",
    "\n",
    "        w_1^1 & w_2^1 & \\cdots & w_d^1 \\\\\n",
    "        w_1^2 & w_2^2 & \\cdots & w_d^2 \\\\\n",
    "        \\vdots & \\vdots & \\ddots & \\vdots \\\\\n",
    "        w_1^l & w_2^l & \\cdots & w_d^l \\\\\n",
    "    \\end{bmatrix}\n",
    "    )^T\n",
    "    \n",
    "\n",
    "\n",
    "\\end{bmatrix} "
   ]
  },
  {
   "cell_type": "markdown",
   "metadata": {},
   "source": [
    "Esto puede ser logrado primero expandiendo primero el tensor $X$ al espacio $ \\mathbb{R}^{n \\times 1 \\times d} $, de modo que ahora las multiplicacion del tensor $X$ por el producto $(M \\odot W)^T$ se hara por broadcasting, y cada fila de $X$ sera multiplicada por una mascara diferente, como el paper indica.\n",
    "\n",
    "Veamos esto en PyTorch:"
   ]
  },
  {
   "cell_type": "code",
   "execution_count": 6,
   "metadata": {},
   "outputs": [
    {
     "name": "stdout",
     "output_type": "stream",
     "text": [
      "Se busca para cada fila de X, multiplicarla por el producto de W y M\n",
      "tensor([1., 1.])\n",
      "tensor([4., 4.])\n",
      "tensor([0., 5.])\n",
      "puede ser optimizado con broadcasting:\n",
      "tensor([[1., 1.],\n",
      "        [4., 4.],\n",
      "        [0., 5.]])\n"
     ]
    }
   ],
   "source": [
    "from torch import Tensor\n",
    "\n",
    "X = Tensor([\n",
    "    [1, 2],\n",
    "    [3, 4],\n",
    "    [5, 6]\n",
    "])\n",
    "\n",
    "W = Tensor([\n",
    "    [1, 1],\n",
    "    [1, 1]\n",
    "])\n",
    "\n",
    "M = Tensor([\n",
    "    [\n",
    "        [1, 0],\n",
    "        [1, 0]\n",
    "    ],\n",
    "    [\n",
    "        [0, 1],\n",
    "        [0, 1]\n",
    "    ],\n",
    "    [\n",
    "        [0, 0],\n",
    "        [1, 0]\n",
    "    ]\n",
    "])\n",
    "\n",
    "print(\"Se busca para cada fila de X, multiplicarla por el producto de W y M\")\n",
    "for row in range(X.size(0)):\n",
    "    print(X[row] @ (M[row]*W).T)\n",
    "\n",
    "\n",
    "print(\"puede ser optimizado con broadcasting:\")\n",
    "print((X.unsqueeze(1)@(M*W).transpose(1,2)).squeeze())"
   ]
  },
  {
   "cell_type": "markdown",
   "metadata": {},
   "source": [
    "Probemos el resultado con mascaras de booleanos."
   ]
  },
  {
   "cell_type": "code",
   "execution_count": 7,
   "metadata": {},
   "outputs": [
    {
     "name": "stdout",
     "output_type": "stream",
     "text": [
      "tensor([ 0.5978, -0.6342,  0.5172,  0.0000,  0.0321],\n",
      "       grad_fn=<SqueezeBackward4>)\n",
      "tensor([ 1.6329, -2.3146,  0.0000,  4.9965,  2.5695],\n",
      "       grad_fn=<SqueezeBackward4>)\n",
      "tensor([-1.5065, -0.4909,  0.5461, -0.3446,  0.5112],\n",
      "       grad_fn=<SqueezeBackward4>)\n",
      "tensor([[ 0.5978, -0.6342,  0.5172,  0.0000,  0.0321],\n",
      "        [ 1.6329, -2.3146,  0.0000,  4.9965,  2.5695],\n",
      "        [-1.5065, -0.4909,  0.5461, -0.3446,  0.5112]],\n",
      "       grad_fn=<SqueezeBackward0>)\n"
     ]
    }
   ],
   "source": [
    "import torch\n",
    "from torch.nn import Parameter\n",
    "\n",
    "input = torch.randn(3, 5, device='cpu')\n",
    "mask = torch.bernoulli(torch.zeros(3,5,5, dtype=torch.bool, device='cpu'), 0.6)\n",
    "weight = Parameter(torch.randn(5,5, device='cpu'), requires_grad=True)\n",
    "\n",
    "for row in range(input.size(0)):\n",
    "    print(input[row]@torch.masked_fill(weight, mask[row], 0).T)\n",
    "\n",
    "output = (input.unsqueeze(1)@torch.masked_fill(weight, mask, 0).transpose(1,2)).squeeze()\n",
    "print(output)"
   ]
  },
  {
   "cell_type": "markdown",
   "metadata": {},
   "source": [
    "Segun el paper, la capa lineal con bias es implementada expandiendo las dimensiones de la matriz de pesos $W$ con los parametros de $\\vec{b}$ y la matriz de entrada $X$ con unos de la siguiente manera:\n",
    "\n",
    "$$ \\text{Linear}(\\vec{x}, W, \\vec{b}) = \n",
    "\n",
    "\\begin{bmatrix} x_1 & x_2 & \\cdots & x_d & 1 \\end{bmatrix}\n",
    "\n",
    "\\begin{bmatrix} w_1^1 & w_2^1 & \\cdots & w_d^1 & b^1 \\\\ w_1^2 & w_2^2 & \\cdots & w_d^2 & b^2 \\\\ \\vdots & \\vdots & \\ddots & \\vdots & \\vdots \\\\ w_1^n & w_2^n & \\cdots & w_d^n & b^n \\end{bmatrix} ^ T\n",
    "\n",
    "$$\n",
    "\n",
    "\n",
    "De modo que si tenemos una mascara $M$ aplicada a una matriz de pesos de esta forma, debemos añadir una columna a cada dimensión de $M$. PyTorch sin embargo, implementa la capa lineal simplemente sumando el bias con broadcasting (En CPU, desconozco como se implementa en GPU), de modo que por el momento nos apegaremos a la implementación de PyTorch y añadiremos una mascara de bias distinta para cada ejemplo de entrenamiento, a la cual denominaremos $M_b$.\n",
    "\n",
    "\n"
   ]
  },
  {
   "cell_type": "code",
   "execution_count": 8,
   "metadata": {},
   "outputs": [
    {
     "name": "stdout",
     "output_type": "stream",
     "text": [
      "tensor([ 0.0000,  0.8118, -0.0753,  1.1159,  1.4431],\n",
      "       grad_fn=<SqueezeBackward4>)\n",
      "tensor([ 0.2393,  0.0000,  0.3341, -1.2575,  3.1959],\n",
      "       grad_fn=<SqueezeBackward4>)\n",
      "tensor([-0.2987,  0.0000,  0.3583,  0.0000,  1.3810],\n",
      "       grad_fn=<SqueezeBackward4>)\n",
      "tensor([[ 0.0000,  0.8118, -0.0753,  1.1159,  1.4431],\n",
      "        [ 0.2393,  0.0000,  0.3341, -1.2575,  3.1959],\n",
      "        [-0.2987,  0.0000,  0.3583,  0.0000,  1.3810]],\n",
      "       grad_fn=<SqueezeBackward0>)\n",
      "tensor([-0.3761,  0.4806,  0.8210,  1.1159,  1.4431], grad_fn=<AddBackward0>)\n",
      "tensor([ 0.2393, -0.3312,  0.3341, -1.2575,  3.1470], grad_fn=<AddBackward0>)\n",
      "tensor([-0.6748, -0.3312,  0.3583,  0.5369,  1.3321], grad_fn=<AddBackward0>)\n",
      "tensor([[-0.3761,  0.4806,  0.8210,  1.1159,  1.4431],\n",
      "        [ 0.2393, -0.3312,  0.3341, -1.2575,  3.1470],\n",
      "        [-0.6748, -0.3312,  0.3583,  0.5369,  1.3321]], grad_fn=<AddBackward0>)\n"
     ]
    }
   ],
   "source": [
    "import torch\n",
    "from torch.nn import Parameter\n",
    "\n",
    "input = torch.randn(3, 5, device='cpu')\n",
    "mask = torch.bernoulli(torch.zeros(3,5,5, dtype=torch.bool, device='cpu'), 0.6)\n",
    "bias_mask = torch.bernoulli(torch.zeros(3,5, dtype=torch.bool, device='cpu'), 0.6)\n",
    "weight = Parameter(torch.randn(5,5, device='cpu'), requires_grad=True)\n",
    "bias = Parameter(torch.randn(5, device='cpu'), requires_grad=True)\n",
    "\n",
    "for row in range(input.size(0)):\n",
    "    print(input[row]@torch.masked_fill(weight, mask[row], 0).T)\n",
    "\n",
    "output = (input.unsqueeze(1)@torch.masked_fill(weight, mask, 0).transpose(1,2)).squeeze()\n",
    "print(output)\n",
    "\n",
    "\n",
    "for row in range(input.size(0)):\n",
    "    print(input[row]@torch.masked_fill(weight, mask[row], 0).T + torch.masked_fill(bias, bias_mask[row], 0))\n",
    "\n",
    "output = (input.unsqueeze(1)@torch.masked_fill(weight, mask, 0).transpose(1,2)).squeeze() + torch.masked_fill(bias, bias_mask, 0)\n",
    "print(output)"
   ]
  },
  {
   "cell_type": "markdown",
   "metadata": {},
   "source": [
    "### Inferencia\n",
    "\n",
    "Para la inferencia, se debe computar según el paper:\n",
    "\n",
    "$$ \\frac{1}{|M|} \\sum_M X \\cdot (M \\odot W) $$\n",
    "\n",
    "Sin embargo, esto es muy costoso computacionalmente, por lo que el mismo paper propone una manera alternativa. \n",
    "Notemos que la salida de la capa lineal aplicando la máscara $M$ es:\n",
    "\n",
    "$$ \\sum_k X_k^i W_j^k \\delta_{ii} \\delta^{jj} M_i^j = \\sum_k W_k^j X_i^k M_i^j \\quad \\text{para el elemento $i$, $j$}$$ \n",
    "\n",
    "Esto es una suma pesada de los elementos $M_i^j$ de la distribución de Bernoulli que puede ser aproximada por una distribución gaussiana $N(\\Mu,\\Sigma^2)$ con media:\n",
    "\n",
    "$$ \\Mu_M[X] = p X W^T $$\n",
    "\n",
    "Y varianza:\n",
    "\n",
    "$$ \\Sigma^2_M[X] = p(1 - p) (X \\odot X) (W^T \\odot W^T) $$\n",
    "\n",
    "Es decir, el resultado de la capa $\\text{DropConnect}$ con probabilidad $p$, durante la inferencia, es el tensor cuyos elementos esta determinados por una distribución gaussiana de media $\\Mu_M[X]$ y varianza $\\Sigma^2_M[X]$.\n",
    "\n",
    "\n",
    "#### Implementación\n",
    "\n",
    "Para implementar la inferencia, pueden computarse las medias y varianzas de la distribución gaussiana, y simplemente utilizar la implementación de la distribución gaussiana de PyTorch para obtener una aproximación de la salida de la capa $\\text{DropConnect}$ durante la inferencia."
   ]
  },
  {
   "cell_type": "code",
   "execution_count": 9,
   "metadata": {},
   "outputs": [
    {
     "name": "stdout",
     "output_type": "stream",
     "text": [
      "tensor([[ 0.3363,  1.0092],\n",
      "        [ 1.5075,  0.0919],\n",
      "        [ 5.2325, -0.5862]])\n"
     ]
    }
   ],
   "source": [
    "import torch\n",
    "from torch import Tensor\n",
    "from torch.distributions.normal import Normal\n",
    "\n",
    "X = Tensor([\n",
    "    [1, 2],\n",
    "    [3, 4],\n",
    "    [5, 6]\n",
    "])\n",
    "\n",
    "W = Tensor([\n",
    "    [1, 1],\n",
    "    [1, 1]\n",
    "])\n",
    "\n",
    "p = 0.3\n",
    "\n",
    "\n",
    "mean = p*X @ W.T\n",
    "variance = p*(1-p)*X**2 @ W.T**2\n",
    "\n",
    "output = Normal(mean, variance.sqrt())\n",
    "\n",
    "print(output.sample())"
   ]
  },
  {
   "cell_type": "markdown",
   "metadata": {},
   "source": [
    "Implementamos finalmente las funciones necesarias de la capa drop connect para entrenamiento e inferencia. Modificamos la capa ``Linear`` de PyTorch para crear la capa ``DropConnect``."
   ]
  },
  {
   "cell_type": "code",
   "execution_count": 10,
   "metadata": {},
   "outputs": [],
   "source": [
    "from typing import Optional\n",
    "import torch\n",
    "import math\n",
    "from torch import Tensor\n",
    "from torch.nn import Parameter\n",
    "from torch.nn import Module\n",
    "from torch.nn import init\n",
    "from torch.nn.functional import linear\n",
    "from torch.distributions.normal import Normal\n",
    "\n",
    "def drop_connect_training(input: Tensor, mask: Tensor, weight: Tensor, bias: Optional[Tensor] = None, bias_mask: Optional[Tensor] = None) -> Tensor:\n",
    "    input = (input.unsqueeze(1)@torch.masked_fill(weight, mask, 0).transpose(1,2)).squeeze()\n",
    "    if bias is not None:\n",
    "        assert bias_mask is not None , \"bias mask is required when bias is provided\"\n",
    "        input = input + torch.masked_fill(bias, bias_mask, 0)\n",
    "    return input\n",
    "\n",
    "def drop_connect_inference(input: Tensor, weight: Tensor, p: float, bias: Optional[Tensor] = None) -> Tensor:\n",
    "    mean = p*linear(input, weight,bias)\n",
    "    variance = p*(1-p)*input**2 @ weight.T**2\n",
    "    return  Normal(mean, variance.sqrt()).sample()\n",
    "\n",
    "class DropConnectLinear(Module):\n",
    "    __constants__ = ['in_features', 'out_features']\n",
    "    in_features: int\n",
    "    out_features: int\n",
    "    weight: Tensor\n",
    "\n",
    "    def __init__(self, in_features: int, out_features: int, bias: bool = True, p: float = 0.5 , max_batch_size: int = 512, device=None, dtype=None) -> None:\n",
    "        factory_kwargs = {'device': device, 'dtype': dtype}\n",
    "        super().__init__()\n",
    "        self.in_features = in_features\n",
    "        self.out_features = out_features\n",
    "        self.max_batch_size = max_batch_size\n",
    "        self.p = p\n",
    "        self.weight = Parameter(torch.empty((out_features, in_features), **factory_kwargs))\n",
    "        self.weight_mask = Parameter(\n",
    "            data=torch.bernoulli(torch.zeros(max_batch_size, out_features, in_features, dtype=torch.bool, device=device), p),\n",
    "            requires_grad=False)\n",
    "        if bias:\n",
    "            self.bias = Parameter(torch.empty(out_features, **factory_kwargs))\n",
    "            self.bias_mask = Parameter(\n",
    "                data=torch.bernoulli(torch.zeros(max_batch_size, out_features, dtype=torch.bool, device=device), p),\n",
    "                requires_grad=False)\n",
    "            \n",
    "        else:\n",
    "            self.register_parameter('bias', None)\n",
    "        self.reset_parameters()\n",
    "\n",
    "    def reset_parameters(self) -> None:\n",
    "        init.kaiming_uniform_(self.weight, a=math.sqrt(5))\n",
    "        if self.bias is not None:\n",
    "            fan_in, _ = init._calculate_fan_in_and_fan_out(self.weight)\n",
    "            bound = 1 / math.sqrt(fan_in) if fan_in > 0 else 0\n",
    "            init.uniform_(self.bias, -bound, bound)\n",
    "\n",
    "    def forward(self, input: Tensor) -> Tensor:\n",
    "        if self.training:\n",
    "            return drop_connect_training(input, self.weight_mask[:input.size(0)], self.weight, self.bias, self.bias_mask[:input.size(0)])\n",
    "        else:\n",
    "            return drop_connect_inference(input, self.weight, self.p, self.bias)\n",
    "\n",
    "    def extra_repr(self) -> str:\n",
    "        return f'in_features={self.in_features}, out_features={self.out_features}, bias={self.bias is not None}'\n"
   ]
  },
  {
   "cell_type": "markdown",
   "metadata": {},
   "source": [
    "Probemos ahora la capa ``DropConnect`` con un ejemplo de clasificación de dígitos de MNIST, comparandola con un perceptrón multicapa utilizando dropout."
   ]
  },
  {
   "cell_type": "code",
   "execution_count": 11,
   "metadata": {},
   "outputs": [],
   "source": [
    "from torch import Tensor\n",
    "from torch.nn import Module, Sequential\n",
    "from torch.nn import Linear, Dropout, ReLU\n",
    "from torch.nn import Flatten\n",
    "\n",
    "class Perceptron(Module):\n",
    "    def __init__(self, input_features: int, hidden_dimension: int, output_features: int, p: float):\n",
    "        super().__init__()\n",
    "        self.flatten = Flatten()\n",
    "        self.layers = Sequential(\n",
    "            Linear(input_features, hidden_dimension),\n",
    "            ReLU(),\n",
    "            Dropout(p),\n",
    "            Linear(hidden_dimension, hidden_dimension),\n",
    "            ReLU(),\n",
    "            Dropout(p),\n",
    "            Linear(hidden_dimension, output_features)\n",
    "        )\n",
    "\n",
    "    def forward(self, input: Tensor) -> Tensor:\n",
    "        input = self.flatten(input)\n",
    "        return self.layers(input)"
   ]
  },
  {
   "cell_type": "code",
   "execution_count": 12,
   "metadata": {},
   "outputs": [],
   "source": [
    "from typing import Iterator, Tuple, Protocol\n",
    "from torch import argmax\n",
    "from torch import Tensor\n",
    "from torch.nn import Module\n",
    "from torch.optim import Optimizer\n",
    "\n",
    "class Criterion(Protocol):\n",
    "    def __call__(self, input: Tensor, target: Tensor) -> Tensor:\n",
    "        ...\n",
    "\n",
    "class Dataloader(Protocol):\n",
    "    def __iter__(self) -> Iterator[Tuple[Tensor, Tensor]]:\n",
    "        ...\n",
    "\n",
    "def train(model: Module, criterion: Criterion, optimizer: Optimizer, data: Dataloader, device: str) -> Tuple[float, float]:\n",
    "    model.train()    \n",
    "    model.to(device)\n",
    "\n",
    "    average_loss = 0\n",
    "    average_precision = 0\n",
    "\n",
    "    for batch, (input, target) in enumerate(data, start=1):\n",
    "        input, target = input.to(device), target.to(device)\n",
    "        input.flatten(1,2)\n",
    "        optimizer.zero_grad()\n",
    "        output = model(input)\n",
    "        loss = criterion(output, target)\n",
    "        loss.backward()\n",
    "        optimizer.step()\n",
    "\n",
    "        average_loss += loss.item()\n",
    "        average_precision += (argmax(output, dim=1) == target).float().mean().item()\n",
    "\n",
    "    average_loss /= batch\n",
    "    average_precision /= batch\n",
    "\n",
    "    return average_loss, average_precision\n",
    "\n",
    "def test(model: Module, criterion: Criterion, data: Dataloader, device: str) -> Tuple[float, float]:\n",
    "    with torch.no_grad():\n",
    "        model.eval()\n",
    "        model.to(device)\n",
    "\n",
    "        average_loss = 0\n",
    "        average_precision = 0\n",
    "\n",
    "        for batch, (input, target) in enumerate(data, start=1):\n",
    "            input, target = input.to(device), target.to(device)\n",
    "            input.flatten(1,2)\n",
    "            output = model(input)\n",
    "            loss = criterion(output, target)    \n",
    "\n",
    "            average_loss += loss.item()\n",
    "            average_precision += (argmax(output, dim=1) == target).float().mean().item()\n",
    "\n",
    "    average_loss /= batch\n",
    "    average_precision /= batch\n",
    "\n",
    "    return average_loss, average_precision\n",
    "        "
   ]
  },
  {
   "cell_type": "code",
   "execution_count": 13,
   "metadata": {},
   "outputs": [],
   "source": [
    "import torch\n",
    "from torchvision.datasets import MNIST\n",
    "from torchvision.transforms import ToTensor, Compose, Normalize\n",
    "from torch.utils.data import DataLoader\n",
    "\n",
    "device = 'cuda' if torch.cuda.is_available() else 'cpu'\n",
    "\n",
    "transform = Compose([ToTensor(), Normalize((0.1307,), (0.3081,))])\n",
    "train_dataset = MNIST(root='data', train=True, download=True, transform=transform)\n",
    "test_dataset = MNIST(root='data', train=False, download=True, transform=transform)\n",
    "\n",
    "train_loader = DataLoader(\n",
    "    dataset=train_dataset, \n",
    "    batch_size=64, \n",
    "    shuffle=True, \n",
    "    pin_memory=True,\n",
    "    pin_memory_device=device,\n",
    "    num_workers=8    \n",
    ")\n",
    "\n",
    "test_loader = DataLoader(\n",
    "    dataset=train_dataset, \n",
    "    batch_size=64, \n",
    "    shuffle=False, \n",
    "    pin_memory=True,\n",
    "    pin_memory_device=device,\n",
    "    num_workers=8    \n",
    ")"
   ]
  },
  {
   "cell_type": "code",
   "execution_count": 14,
   "metadata": {},
   "outputs": [
    {
     "name": "stdout",
     "output_type": "stream",
     "text": [
      "Epoch 1: Train Loss 0.378773 Train Precision 0.882180 Test Loss 0.136424 Test Precision 0.958722\n",
      "Epoch 2: Train Loss 0.216763 Train Precision 0.935001 Test Loss 0.101357 Test Precision 0.968933\n",
      "Epoch 3: Train Loss 0.182666 Train Precision 0.945962 Test Loss 0.078419 Test Precision 0.976746\n",
      "Epoch 4: Train Loss 0.164441 Train Precision 0.951343 Test Loss 0.073397 Test Precision 0.977462\n",
      "Epoch 5: Train Loss 0.151614 Train Precision 0.953875 Test Loss 0.064437 Test Precision 0.979711\n"
     ]
    }
   ],
   "source": [
    "import torch\n",
    "from torch.optim import Adam\n",
    "from torch.nn import CrossEntropyLoss\n",
    "\n",
    "model = Perceptron(28*28, 256, 10, 0.5)\n",
    "criterion = CrossEntropyLoss()\n",
    "optimizer = Adam(model.parameters(), lr=0.001)\n",
    "\n",
    "torch.set_float32_matmul_precision('high')\n",
    "torch.compile(model)\n",
    "\n",
    "for epoch in range(1, 6):\n",
    "    train_loss, train_precision = train(model, criterion, optimizer, train_loader, device)\n",
    "    test_loss, test_precision = test(model, criterion, test_loader, device)\n",
    "    print(f\"Epoch {epoch}: Train Loss {train_loss:.6f} Train Precision {train_precision:.6f} Test Loss {test_loss:.6f} Test Precision {test_precision:.6f}\")"
   ]
  },
  {
   "cell_type": "code",
   "execution_count": 15,
   "metadata": {},
   "outputs": [],
   "source": [
    "class DropConnectPerceptron(Module):\n",
    "    def __init__(self, input_features: int, hidden_dimension: int, output_features: int, p: float):\n",
    "        super().__init__()\n",
    "        self.flatten = Flatten()\n",
    "        self.layers = Sequential(\n",
    "            DropConnectLinear(input_features, hidden_dimension, p=p),\n",
    "            ReLU(),\n",
    "            DropConnectLinear(hidden_dimension, hidden_dimension, p=p),\n",
    "            ReLU(),\n",
    "            Linear(hidden_dimension, output_features)\n",
    "        )\n",
    "\n",
    "    def forward(self, input: Tensor) -> Tensor:\n",
    "        input = self.flatten(input)\n",
    "        return self.layers(input)"
   ]
  },
  {
   "cell_type": "code",
   "execution_count": 16,
   "metadata": {},
   "outputs": [
    {
     "name": "stdout",
     "output_type": "stream",
     "text": [
      "Epoch 1: Train Loss 0.344317 Train Precision 0.895872 Test Loss 0.172028 Test Precision 0.946945\n",
      "Epoch 2: Train Loss 0.152152 Train Precision 0.953008 Test Loss 0.126749 Test Precision 0.960654\n",
      "Epoch 3: Train Loss 0.119343 Train Precision 0.963486 Test Loss 0.091113 Test Precision 0.971115\n",
      "Epoch 4: Train Loss 0.100860 Train Precision 0.968850 Test Loss 0.084091 Test Precision 0.972948\n",
      "Epoch 5: Train Loss 0.088983 Train Precision 0.971565 Test Loss 0.073292 Test Precision 0.976646\n"
     ]
    }
   ],
   "source": [
    "import torch\n",
    "from torch.optim import Adam\n",
    "from torch.nn import CrossEntropyLoss\n",
    "\n",
    "model = DropConnectPerceptron(28*28, 256, 10, 0.5)\n",
    "criterion = CrossEntropyLoss()\n",
    "optimizer = Adam(model.parameters(), lr=0.001)\n",
    "\n",
    "torch.set_float32_matmul_precision('high')\n",
    "torch.compile(model)\n",
    "\n",
    "for epoch in range(1, 6):\n",
    "    train_loss, train_precision = train(model, criterion, optimizer, train_loader, device)\n",
    "    test_loss, test_precision = test(model, criterion, test_loader, device)\n",
    "    print(f\"Epoch {epoch}: Train Loss {train_loss:.6f} Train Precision {train_precision:.6f} Test Loss {test_loss:.6f} Test Precision {test_precision:.6f}\")"
   ]
  }
 ],
 "metadata": {
  "kernelspec": {
   "display_name": "Python 3",
   "language": "python",
   "name": "python3"
  },
  "language_info": {
   "codemirror_mode": {
    "name": "ipython",
    "version": 3
   },
   "file_extension": ".py",
   "mimetype": "text/x-python",
   "name": "python",
   "nbconvert_exporter": "python",
   "pygments_lexer": "ipython3",
   "version": "3.11.9"
  }
 },
 "nbformat": 4,
 "nbformat_minor": 2
}
