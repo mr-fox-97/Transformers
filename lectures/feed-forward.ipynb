{
 "cells": [
  {
   "cell_type": "code",
   "execution_count": 3,
   "metadata": {},
   "outputs": [],
   "source": [
    "from torch import Tensor\n",
    "from torch.nn import Module, Linear, ReLU, Sequential, Dropout\n",
    "\n",
    "class FeedForward(Module):\n",
    "    def __init__(self, model_dimension: int, hidden_dimension: int, dropout_rate: float = 0.2):\n",
    "        super().__init__()\n",
    "        self.layers = Sequential(\n",
    "            Linear(model_dimension, hidden_dimension),\n",
    "            ReLU(),\n",
    "            Dropout(dropout_rate),\n",
    "            Linear(hidden_dimension, model_dimension)\n",
    "        )\n",
    "    \n",
    "    def forward(self, input: Tensor) -> Tensor:\n",
    "        return self.layers(input)"
   ]
  },
  {
   "cell_type": "code",
   "execution_count": null,
   "metadata": {},
   "outputs": [],
   "source": []
  }
 ],
 "metadata": {
  "kernelspec": {
   "display_name": "Python 3",
   "language": "python",
   "name": "python3"
  },
  "language_info": {
   "codemirror_mode": {
    "name": "ipython",
    "version": 3
   },
   "file_extension": ".py",
   "mimetype": "text/x-python",
   "name": "python",
   "nbconvert_exporter": "python",
   "pygments_lexer": "ipython3",
   "version": "3.11.9"
  }
 },
 "nbformat": 4,
 "nbformat_minor": 2
}
