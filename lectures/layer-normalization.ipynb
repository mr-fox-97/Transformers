{
 "cells": [
  {
   "cell_type": "code",
   "execution_count": 1,
   "metadata": {},
   "outputs": [],
   "source": [
    "from torch import zeros, ones\n",
    "from torch import sqrt\n",
    "from torch import Tensor\n",
    "from torch.nn import Parameter\n",
    "from torch.nn import Module\n",
    "\n",
    "class LayerNormalization(Module):\n",
    "    def __init__(self, model_dimension: int, epsilon: float = 1e-12):\n",
    "        super().__init__()\n",
    "        self.gamma = Parameter(data=ones(model_dimension))\n",
    "        self.beta = Parameter(data=zeros(model_dimension))\n",
    "        self.epsilon = epsilon\n",
    "\n",
    "    def forward(self, input: Tensor) -> Tensor:\n",
    "        mean = input.mean(dim=-1, keepdim=True)\n",
    "        variance = input.var(dim=-1, unbiased=True, keepdim=True)\n",
    "        return self.gamma * ((input - mean) / sqrt(variance + self.epsilon)) + self.beta"
   ]
  }
 ],
 "metadata": {
  "kernelspec": {
   "display_name": "Python 3",
   "language": "python",
   "name": "python3"
  },
  "language_info": {
   "codemirror_mode": {
    "name": "ipython",
    "version": 3
   },
   "file_extension": ".py",
   "mimetype": "text/x-python",
   "name": "python",
   "nbconvert_exporter": "python",
   "pygments_lexer": "ipython3",
   "version": "3.11.9"
  }
 },
 "nbformat": 4,
 "nbformat_minor": 2
}
