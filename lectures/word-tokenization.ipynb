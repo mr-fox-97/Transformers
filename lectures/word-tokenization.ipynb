{
 "cells": [
  {
   "cell_type": "markdown",
   "metadata": {},
   "source": [
    "Para descargar los modelos y los vocabularios hacemos:\n",
    "\n",
    "wget https://bpemb.h-its.org/es/es.wiki.bpe.vs3000.vocab\n",
    "\n",
    "wget https://bpemb.h-its.org/es/es.wiki.bpe.vs3000.model"
   ]
  },
  {
   "cell_type": "code",
   "execution_count": 13,
   "metadata": {},
   "outputs": [
    {
     "name": "stdout",
     "output_type": "stream",
     "text": [
      "[4905, 0, 1680, 4923, 4905, 4984, 1594, 179, 83, 139, 4970]\n"
     ]
    }
   ],
   "source": [
    "from sentencepiece import SentencePieceProcessor\n",
    "\n",
    "tokenizer = SentencePieceProcessor(model_file='tokenizers/es.wiki.bpe.vs5000.model')\n",
    "\n",
    "tokens = tokenizer.encode('Hola, ¿cómo estás?')\n",
    "print(tokens)"
   ]
  },
  {
   "cell_type": "code",
   "execution_count": null,
   "metadata": {},
   "outputs": [],
   "source": []
  }
 ],
 "metadata": {
  "kernelspec": {
   "display_name": "Python 3",
   "language": "python",
   "name": "python3"
  },
  "language_info": {
   "codemirror_mode": {
    "name": "ipython",
    "version": 3
   },
   "file_extension": ".py",
   "mimetype": "text/x-python",
   "name": "python",
   "nbconvert_exporter": "python",
   "pygments_lexer": "ipython3",
   "version": "3.11.9"
  }
 },
 "nbformat": 4,
 "nbformat_minor": 2
}
